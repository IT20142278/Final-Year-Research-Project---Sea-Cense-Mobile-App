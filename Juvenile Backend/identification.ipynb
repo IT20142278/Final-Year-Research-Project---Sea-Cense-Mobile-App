{
 "cells": [
  {
   "cell_type": "code",
   "execution_count": 5,
   "metadata": {},
   "outputs": [],
   "source": [
    "import uuid\n",
    "import os, glob\n",
    "import cv2 as cv\n",
    "import numpy as np\n",
    "import pandas as pd\n",
    "import tensorflow as tf\n",
    "import matplotlib.pyplot as plt\n",
    "from seaborn import heatmap, color_palette\n",
    "from sklearn.metrics import confusion_matrix, classification_report"
   ]
  },
  {
   "cell_type": "code",
   "execution_count": 6,
   "metadata": {},
   "outputs": [],
   "source": [
    "def rename_images():\n",
    "    for i, file in enumerate(glob.glob('data/*/*.*')):\n",
    "        new_file_name = str(uuid.uuid4()) + '.jpg'\n",
    "        new_file_path = os.path.join(os.path.dirname(file), new_file_name)\n",
    "        os.rename(file, new_file_path)"
   ]
  },
  {
   "cell_type": "code",
   "execution_count": 7,
   "metadata": {},
   "outputs": [],
   "source": [
    "dataset_dir = 'data'\n",
    "\n",
    "width = 224\n",
    "height = 224\n",
    "\n",
    "target_size = (width, height)\n",
    "input_shape = (width, height, 3)"
   ]
  },
  {
   "cell_type": "code",
   "execution_count": 9,
   "metadata": {},
   "outputs": [],
   "source": [
    "def preprocessing_function(img):\n",
    "    img = tf.keras.applications.xception.preprocess_input(img)\n",
    "    return img\n",
    "\n",
    "def image_data_generator():\n",
    "    train_datagen = tf.keras.preprocessing.image.ImageDataGenerator(\n",
    "                                                                    rotation_range = 30,\n",
    "                                                                    shear_range = 0.3,\n",
    "                                                                    zoom_range = 0.3,\n",
    "                                                                    width_shift_range=0.3,\n",
    "                                                                    height_shift_range=0.3,\n",
    "                                                                    horizontal_flip = True,\n",
    "                                                                    preprocessing_function=preprocessing_function\n",
    "                                                                    )\n",
    "\n",
    "    train_generator = train_datagen.flow_from_directory(\n",
    "                                                        dataset_dir,\n",
    "                                                        target_size = target_size,\n",
    "                                                        color_mode = 'rgb',\n",
    "                                                        batch_size = 16,\n",
    "                                                        class_mode = 'categorical',\n",
    "                                                        subset='training',\n",
    "                                                        shuffle = True\n",
    "                                                        )\n",
    "    return train_generator"
   ]
  },
  {
   "cell_type": "code",
   "execution_count": 10,
   "metadata": {},
   "outputs": [
    {
     "name": "stdout",
     "output_type": "stream",
     "text": [
      "Found 657 images belonging to 4 classes.\n"
     ]
    }
   ],
   "source": [
    "train_generator = image_data_generator()"
   ]
  },
  {
   "cell_type": "code",
   "execution_count": 10,
   "metadata": {},
   "outputs": [],
   "source": [
    "def sea_cucumber_detector():    \n",
    "    functional_model = tf.keras.applications.Xception(\n",
    "                                                     weights=\"imagenet\",\n",
    "                                                     include_top=False\n",
    "                                                     )\n",
    "    functional_model.trainable = True\n",
    "    \n",
    "    inputs = tf.keras.Input(shape=input_shape)\n",
    "    x = functional_model(inputs, training=True)\n",
    "\n",
    "    x = tf.keras.layers.GlobalAveragePooling2D()(x)\n",
    "    x = tf.keras.layers.Dropout(0.2)(x)\n",
    "\n",
    "    x = tf.keras.layers.Dense(512, activation='relu')(x)\n",
    "    x = tf.keras.layers.Dropout(0.5)(x)\n",
    "\n",
    "    x = tf.keras.layers.Dense(256, activation='relu')(x)\n",
    "    x = tf.keras.layers.Dropout(0.5)(x)\n",
    "\n",
    "    outputs = tf.keras.layers.Dense(4, activation='softmax')(x)\n",
    "\n",
    "    model = tf.keras.Model(inputs=inputs, outputs=outputs)\n",
    "    model.summary()\n",
    "\n",
    "    return model"
   ]
  },
  {
   "cell_type": "code",
   "execution_count": 11,
   "metadata": {},
   "outputs": [
    {
     "name": "stdout",
     "output_type": "stream",
     "text": [
      "Model: \"model\"\n",
      "_________________________________________________________________\n",
      " Layer (type)                Output Shape              Param #   \n",
      "=================================================================\n",
      " input_2 (InputLayer)        [(None, 224, 224, 3)]     0         \n",
      "                                                                 \n",
      " xception (Functional)       (None, None, None, 2048)  20861480  \n",
      "                                                                 \n",
      " global_average_pooling2d (G  (None, 2048)             0         \n",
      " lobalAveragePooling2D)                                          \n",
      "                                                                 \n",
      " dropout (Dropout)           (None, 2048)              0         \n",
      "                                                                 \n",
      " dense (Dense)               (None, 512)               1049088   \n",
      "                                                                 \n",
      " dropout_1 (Dropout)         (None, 512)               0         \n",
      "                                                                 \n",
      " dense_1 (Dense)             (None, 256)               131328    \n",
      "                                                                 \n",
      " dropout_2 (Dropout)         (None, 256)               0         \n",
      "                                                                 \n",
      " dense_2 (Dense)             (None, 4)                 1028      \n",
      "                                                                 \n",
      "=================================================================\n",
      "Total params: 22,042,924\n",
      "Trainable params: 21,988,396\n",
      "Non-trainable params: 54,528\n",
      "_________________________________________________________________\n",
      "Epoch 1/100\n",
      "41/41 [==============================] - 83s 2s/step - loss: 1.0143 - accuracy: 0.5396 - precision: 0.8134 - recall: 0.3323\n",
      "Epoch 2/100\n",
      "41/41 [==============================] - 77s 2s/step - loss: 0.6609 - accuracy: 0.6982 - precision: 0.9386 - recall: 0.5595\n",
      "Epoch 3/100\n",
      "41/41 [==============================] - 76s 2s/step - loss: 0.5309 - accuracy: 0.7729 - precision: 0.9049 - recall: 0.6524\n",
      "Epoch 4/100\n",
      "41/41 [==============================] - 75s 2s/step - loss: 0.3838 - accuracy: 0.8491 - precision: 0.9351 - recall: 0.7683\n",
      "Epoch 5/100\n",
      "41/41 [==============================] - 75s 2s/step - loss: 0.2627 - accuracy: 0.8963 - precision: 0.9501 - recall: 0.8704\n",
      "Epoch 6/100\n",
      "41/41 [==============================] - 74s 2s/step - loss: 0.2224 - accuracy: 0.9177 - precision: 0.9542 - recall: 0.8902\n",
      "Epoch 7/100\n",
      "41/41 [==============================] - 80s 2s/step - loss: 0.1867 - accuracy: 0.9223 - precision: 0.9738 - recall: 0.9055\n",
      "Epoch 8/100\n",
      "41/41 [==============================] - 78s 2s/step - loss: 0.1883 - accuracy: 0.9238 - precision: 0.9598 - recall: 0.9101\n",
      "Epoch 9/100\n",
      "41/41 [==============================] - 77s 2s/step - loss: 0.1511 - accuracy: 0.9390 - precision: 0.9758 - recall: 0.9223\n",
      "Epoch 10/100\n",
      "41/41 [==============================] - 79s 2s/step - loss: 0.1228 - accuracy: 0.9680 - precision: 0.9825 - recall: 0.9421\n",
      "Epoch 11/100\n",
      "41/41 [==============================] - 75s 2s/step - loss: 0.1068 - accuracy: 0.9726 - precision: 0.9811 - recall: 0.9512\n",
      "Epoch 12/100\n",
      "41/41 [==============================] - 75s 2s/step - loss: 0.1252 - accuracy: 0.9634 - precision: 0.9688 - recall: 0.9466\n",
      "Epoch 13/100\n",
      "41/41 [==============================] - 74s 2s/step - loss: 0.0839 - accuracy: 0.9848 - precision: 0.9861 - recall: 0.9756\n",
      "Epoch 14/100\n",
      "41/41 [==============================] - 74s 2s/step - loss: 0.1142 - accuracy: 0.9756 - precision: 0.9784 - recall: 0.9680\n",
      "Epoch 15/100\n",
      "41/41 [==============================] - 75s 2s/step - loss: 0.0950 - accuracy: 0.9741 - precision: 0.9769 - recall: 0.9680\n",
      "Epoch 16/100\n",
      "41/41 [==============================] - 75s 2s/step - loss: 0.0608 - accuracy: 0.9802 - precision: 0.9831 - recall: 0.9771\n",
      "Epoch 17/100\n",
      "41/41 [==============================] - 75s 2s/step - loss: 0.0388 - accuracy: 0.9878 - precision: 0.9908 - recall: 0.9878\n",
      "Epoch 18/100\n",
      "41/41 [==============================] - 74s 2s/step - loss: 0.0454 - accuracy: 0.9863 - precision: 0.9878 - recall: 0.9863\n",
      "Epoch 19/100\n",
      "41/41 [==============================] - 74s 2s/step - loss: 0.0476 - accuracy: 0.9832 - precision: 0.9832 - recall: 0.9817\n",
      "Epoch 20/100\n",
      "41/41 [==============================] - 76s 2s/step - loss: 0.0407 - accuracy: 0.9893 - precision: 0.9908 - recall: 0.9878\n",
      "Epoch 21/100\n",
      "41/41 [==============================] - 75s 2s/step - loss: 0.0548 - accuracy: 0.9817 - precision: 0.9817 - recall: 0.9802\n",
      "Epoch 22/100\n",
      "41/41 [==============================] - 74s 2s/step - loss: 0.0319 - accuracy: 0.9893 - precision: 0.9893 - recall: 0.9878\n",
      "Epoch 23/100\n",
      "41/41 [==============================] - 74s 2s/step - loss: 0.0350 - accuracy: 0.9878 - precision: 0.9908 - recall: 0.9832\n",
      "Epoch 24/100\n",
      "41/41 [==============================] - 75s 2s/step - loss: 0.0293 - accuracy: 0.9893 - precision: 0.9908 - recall: 0.9878\n",
      "Epoch 25/100\n",
      "41/41 [==============================] - 74s 2s/step - loss: 0.0429 - accuracy: 0.9878 - precision: 0.9878 - recall: 0.9863\n",
      "Epoch 26/100\n",
      "41/41 [==============================] - 75s 2s/step - loss: 0.0177 - accuracy: 0.9924 - precision: 0.9924 - recall: 0.9924\n",
      "Epoch 27/100\n",
      "41/41 [==============================] - 74s 2s/step - loss: 0.0531 - accuracy: 0.9878 - precision: 0.9878 - recall: 0.9863\n",
      "Epoch 28/100\n",
      "41/41 [==============================] - 75s 2s/step - loss: 0.0227 - accuracy: 0.9909 - precision: 0.9939 - recall: 0.9909\n",
      "Epoch 29/100\n",
      "41/41 [==============================] - 74s 2s/step - loss: 0.0436 - accuracy: 0.9817 - precision: 0.9832 - recall: 0.9817\n",
      "Epoch 30/100\n",
      "41/41 [==============================] - 74s 2s/step - loss: 0.0860 - accuracy: 0.9817 - precision: 0.9832 - recall: 0.9787\n",
      "Epoch 31/100\n",
      "41/41 [==============================] - 74s 2s/step - loss: 0.0243 - accuracy: 0.9939 - precision: 0.9985 - recall: 0.9939\n",
      "Epoch 32/100\n",
      "41/41 [==============================] - 75s 2s/step - loss: 0.0259 - accuracy: 0.9909 - precision: 0.9908 - recall: 0.9878\n",
      "Epoch 33/100\n",
      "41/41 [==============================] - 74s 2s/step - loss: 0.0262 - accuracy: 0.9939 - precision: 0.9954 - recall: 0.9909\n",
      "Epoch 34/100\n",
      "41/41 [==============================] - 74s 2s/step - loss: 0.0193 - accuracy: 0.9970 - precision: 0.9969 - recall: 0.9954\n",
      "Epoch 35/100\n",
      "41/41 [==============================] - 74s 2s/step - loss: 0.0361 - accuracy: 0.9878 - precision: 0.9878 - recall: 0.9848\n",
      "Epoch 36/100\n",
      "41/41 [==============================] - 75s 2s/step - loss: 0.0138 - accuracy: 0.9939 - precision: 0.9939 - recall: 0.9939\n",
      "Epoch 37/100\n",
      "41/41 [==============================] - 74s 2s/step - loss: 0.0228 - accuracy: 0.9924 - precision: 0.9939 - recall: 0.9909\n",
      "Epoch 38/100\n",
      "41/41 [==============================] - 74s 2s/step - loss: 0.0447 - accuracy: 0.9802 - precision: 0.9817 - recall: 0.9787\n",
      "Epoch 39/100\n",
      "41/41 [==============================] - 75s 2s/step - loss: 0.0167 - accuracy: 0.9970 - precision: 0.9985 - recall: 0.9970\n",
      "Epoch 40/100\n",
      "41/41 [==============================] - 75s 2s/step - loss: 0.0159 - accuracy: 0.9985 - precision: 0.9985 - recall: 0.9985\n",
      "Epoch 41/100\n",
      "41/41 [==============================] - 74s 2s/step - loss: 0.0236 - accuracy: 0.9878 - precision: 0.9878 - recall: 0.9863\n",
      "Epoch 42/100\n",
      "41/41 [==============================] - 75s 2s/step - loss: 0.0297 - accuracy: 0.9924 - precision: 0.9939 - recall: 0.9909\n",
      "Epoch 43/100\n",
      "41/41 [==============================] - 75s 2s/step - loss: 0.0237 - accuracy: 0.9893 - precision: 0.9893 - recall: 0.9893\n",
      "Epoch 44/100\n",
      "41/41 [==============================] - 76s 2s/step - loss: 0.0561 - accuracy: 0.9893 - precision: 0.9893 - recall: 0.9878\n",
      "Epoch 45/100\n",
      "41/41 [==============================] - 74s 2s/step - loss: 0.0210 - accuracy: 0.9954 - precision: 0.9969 - recall: 0.9924\n",
      "Epoch 46/100\n",
      "41/41 [==============================] - 74s 2s/step - loss: 0.0185 - accuracy: 0.9924 - precision: 0.9924 - recall: 0.9924\n",
      "Epoch 47/100\n",
      "41/41 [==============================] - 74s 2s/step - loss: 0.0305 - accuracy: 0.9848 - precision: 0.9847 - recall: 0.9802\n",
      "Epoch 48/100\n",
      "41/41 [==============================] - 75s 2s/step - loss: 0.0348 - accuracy: 0.9893 - precision: 0.9908 - recall: 0.9878\n",
      "Epoch 49/100\n",
      "41/41 [==============================] - 75s 2s/step - loss: 0.0276 - accuracy: 0.9954 - precision: 0.9969 - recall: 0.9939\n",
      "Epoch 50/100\n",
      "41/41 [==============================] - 74s 2s/step - loss: 0.0238 - accuracy: 0.9954 - precision: 0.9954 - recall: 0.9939\n",
      "Epoch 51/100\n",
      "41/41 [==============================] - 75s 2s/step - loss: 0.0529 - accuracy: 0.9878 - precision: 0.9923 - recall: 0.9863\n",
      "Epoch 52/100\n",
      "41/41 [==============================] - 76s 2s/step - loss: 0.0184 - accuracy: 0.9939 - precision: 0.9954 - recall: 0.9939\n",
      "Epoch 53/100\n",
      "41/41 [==============================] - 74s 2s/step - loss: 0.0335 - accuracy: 0.9939 - precision: 0.9939 - recall: 0.9924\n",
      "Epoch 54/100\n",
      "41/41 [==============================] - 74s 2s/step - loss: 0.0139 - accuracy: 0.9939 - precision: 0.9939 - recall: 0.9924\n",
      "Epoch 55/100\n",
      "41/41 [==============================] - 75s 2s/step - loss: 0.0130 - accuracy: 0.9970 - precision: 0.9985 - recall: 0.9954\n",
      "Epoch 56/100\n",
      "41/41 [==============================] - 79s 2s/step - loss: 0.0112 - accuracy: 0.9954 - precision: 0.9954 - recall: 0.9954\n",
      "Epoch 57/100\n",
      "41/41 [==============================] - 75s 2s/step - loss: 0.0075 - accuracy: 0.9970 - precision: 0.9969 - recall: 0.9954\n",
      "Epoch 58/100\n",
      "41/41 [==============================] - 75s 2s/step - loss: 0.0424 - accuracy: 0.9909 - precision: 0.9909 - recall: 0.9909\n",
      "Epoch 59/100\n",
      "41/41 [==============================] - 74s 2s/step - loss: 0.0096 - accuracy: 0.9954 - precision: 0.9954 - recall: 0.9954\n",
      "Epoch 60/100\n",
      "41/41 [==============================] - 75s 2s/step - loss: 0.0114 - accuracy: 0.9954 - precision: 0.9954 - recall: 0.9954\n",
      "Epoch 61/100\n",
      "41/41 [==============================] - 74s 2s/step - loss: 0.0136 - accuracy: 0.9970 - precision: 0.9969 - recall: 0.9954\n",
      "Epoch 62/100\n",
      "41/41 [==============================] - 74s 2s/step - loss: 0.0212 - accuracy: 0.9939 - precision: 0.9939 - recall: 0.9924\n",
      "Epoch 63/100\n",
      "41/41 [==============================] - 74s 2s/step - loss: 0.0158 - accuracy: 0.9909 - precision: 0.9909 - recall: 0.9909\n",
      "Epoch 64/100\n",
      "41/41 [==============================] - 76s 2s/step - loss: 0.0621 - accuracy: 0.9863 - precision: 0.9863 - recall: 0.9848\n",
      "Epoch 65/100\n",
      "41/41 [==============================] - 74s 2s/step - loss: 0.0130 - accuracy: 0.9970 - precision: 0.9970 - recall: 0.9970\n",
      "Epoch 66/100\n",
      "41/41 [==============================] - 74s 2s/step - loss: 0.0365 - accuracy: 0.9893 - precision: 0.9893 - recall: 0.9893\n",
      "Epoch 67/100\n",
      "41/41 [==============================] - 75s 2s/step - loss: 0.0164 - accuracy: 0.9954 - precision: 0.9954 - recall: 0.9939\n",
      "Epoch 68/100\n",
      "41/41 [==============================] - 76s 2s/step - loss: 0.0119 - accuracy: 0.9954 - precision: 0.9954 - recall: 0.9954\n",
      "Epoch 69/100\n",
      "41/41 [==============================] - 75s 2s/step - loss: 0.0590 - accuracy: 0.9832 - precision: 0.9847 - recall: 0.9832\n",
      "Epoch 70/100\n",
      "41/41 [==============================] - 75s 2s/step - loss: 0.0230 - accuracy: 0.9924 - precision: 0.9924 - recall: 0.9924\n",
      "Epoch 71/100\n",
      "41/41 [==============================] - 75s 2s/step - loss: 0.0134 - accuracy: 0.9970 - precision: 0.9970 - recall: 0.9970\n",
      "Epoch 72/100\n",
      "41/41 [==============================] - 76s 2s/step - loss: 0.0079 - accuracy: 0.9970 - precision: 0.9970 - recall: 0.9970\n",
      "Epoch 73/100\n",
      "41/41 [==============================] - 75s 2s/step - loss: 0.0227 - accuracy: 0.9909 - precision: 0.9909 - recall: 0.9909\n",
      "Epoch 74/100\n",
      "41/41 [==============================] - 75s 2s/step - loss: 0.0083 - accuracy: 0.9970 - precision: 0.9985 - recall: 0.9970\n",
      "Epoch 75/100\n",
      "41/41 [==============================] - 75s 2s/step - loss: 0.0181 - accuracy: 0.9924 - precision: 0.9924 - recall: 0.9909\n",
      "Epoch 76/100\n",
      "41/41 [==============================] - 75s 2s/step - loss: 0.0432 - accuracy: 0.9863 - precision: 0.9863 - recall: 0.9863\n",
      "Epoch 77/100\n",
      "41/41 [==============================] - 76s 2s/step - loss: 0.0182 - accuracy: 0.9939 - precision: 0.9939 - recall: 0.9939\n"
     ]
    }
   ],
   "source": [
    "model = sea_cucumber_detector()\n",
    "model.compile(\n",
    "            optimizer=tf.keras.optimizers.Adam(learning_rate=0.0001), \n",
    "            loss='categorical_crossentropy', \n",
    "            metrics=[\n",
    "                tf.keras.metrics.CategoricalAccuracy(name='accuracy'),\n",
    "                tf.keras.metrics.Precision(name='precision'),\n",
    "                tf.keras.metrics.Recall(name='recall')\n",
    "            ])\n",
    "\n",
    "if not os.path.exists('sea_cucumber_detector.h5'):\n",
    "    history = model.fit(\n",
    "                train_generator,\n",
    "                steps_per_epoch = train_generator.samples // train_generator.batch_size,\n",
    "                epochs = 100,\n",
    "                callbacks=[\n",
    "                            tf.keras.callbacks.EarlyStopping(\n",
    "                                                    monitor='loss',\n",
    "                                                    patience=20,\n",
    "                                                    restore_best_weights=True\n",
    "                                                    )\n",
    "                ])\n",
    "    \n",
    "    model.save('sea_cucumber_detector.h5')\n",
    "\n",
    "model = tf.keras.models.load_model('sea_cucumber_detector.h5')\n",
    "model.compile(\n",
    "            optimizer=tf.keras.optimizers.Adam(learning_rate=0.0001), \n",
    "            loss='categorical_crossentropy', \n",
    "            metrics=[\n",
    "                tf.keras.metrics.CategoricalAccuracy(name='accuracy'),\n",
    "                tf.keras.metrics.Precision(name='precision'),\n",
    "                tf.keras.metrics.Recall(name='recall')\n",
    "            ])"
   ]
  },
  {
   "cell_type": "code",
   "execution_count": 7,
   "metadata": {},
   "outputs": [
    {
     "name": "stdout",
     "output_type": "stream",
     "text": [
      "8/8 [==============================] - 4s 354ms/step - loss: 0.0241 - accuracy: 1.0000 - precision: 1.0000 - recall: 1.0000\n"
     ]
    },
    {
     "data": {
      "text/plain": [
       "[0.024148860946297646, 1.0, 1.0, 1.0]"
      ]
     },
     "execution_count": 7,
     "metadata": {},
     "output_type": "execute_result"
    }
   ],
   "source": [
    "model.evaluate(train_generator)"
   ]
  },
  {
   "cell_type": "code",
   "execution_count": 8,
   "metadata": {},
   "outputs": [
    {
     "data": {
      "image/png": "[encoded data removed]",
      "text/plain": [
       "<Figure size 1000x1000 with 4 Axes>"
      ]
     },
     "metadata": {},
     "output_type": "display_data"
    }
   ],
   "source": [
    "# plot the history of the model\n",
    "plt.figure(figsize=(10, 10))\n",
    "\n",
    "train_accuracy = history.history['accuracy']\n",
    "train_precision = history.history['precision']\n",
    "train_recall = history.history['recall']\n",
    "train_auc = history.history['loss']\n",
    "\n",
    "plt.subplot(2, 2, 1)\n",
    "plt.plot(train_accuracy, label='train_accuracy')\n",
    "plt.ylim([0, 1])\n",
    "plt.title('Accuracy')\n",
    "\n",
    "plt.subplot(2, 2, 2)\n",
    "plt.plot(train_precision, label='train_precision')\n",
    "plt.ylim([0, 1])\n",
    "plt.title('Precision')\n",
    "\n",
    "plt.subplot(2, 2, 3)\n",
    "plt.plot(train_recall, label='train_recall')\n",
    "plt.ylim([0, 1])\n",
    "plt.title('Recall')\n",
    "\n",
    "plt.subplot(2, 2, 4)\n",
    "plt.plot(train_auc, label='train_loss')\n",
    "plt.ylim([0, 1])\n",
    "plt.title('Loss')\n",
    "\n",
    "plt.show()"
   ]
  },
  {
   "attachments": {},
   "cell_type": "markdown",
   "metadata": {},
   "source": [
    "# Evaluation"
   ]
  },
  {
   "cell_type": "code",
   "execution_count": 9,
   "metadata": {},
   "outputs": [
    {
     "name": "stdout",
     "output_type": "stream",
     "text": [
      "8/8 [==============================] - 3s 393ms/step - loss: 0.0227 - accuracy: 0.9917 - precision: 0.9917 - recall: 0.9917\n"
     ]
    },
    {
     "data": {
      "text/plain": [
       "[0.0226609967648983,\n",
       " 0.9916666746139526,\n",
       " 0.9916666746139526,\n",
       " 0.9916666746139526]"
      ]
     },
     "execution_count": 9,
     "metadata": {},
     "output_type": "execute_result"
    }
   ],
   "source": [
    "model.evaluate(train_generator)"
   ]
  },
  {
   "cell_type": "code",
   "execution_count": null,
   "metadata": {},
   "outputs": [],
   "source": [
    "all_images = glob.glob('data/*/*.jpg')\n",
    "all_images = [img.replace('\\\\', '/') for img in all_images]\n",
    "class_names = [img.split('/')[-2] for img in all_images]\n"
   ]
  },
  {
   "attachments": {},
   "cell_type": "markdown",
   "metadata": {},
   "source": [
    "# Inference"
   ]
  },
  {
   "cell_type": "code",
   "execution_count": 4,
   "metadata": {},
   "outputs": [],
   "source": [
    "model = tf.keras.models.load_model('sea_cucumber_detector.h5')\n",
    "model.compile(\n",
    "            optimizer=tf.keras.optimizers.Adam(learning_rate=0.0001),       \n",
    "            loss='categorical_crossentropy',\n",
    "            metrics=[\n",
    "                tf.keras.metrics.CategoricalAccuracy(name='accuracy'),\n",
    "                tf.keras.metrics.Precision(name='precision'),\n",
    "                tf.keras.metrics.Recall(name='recall')\n",
    "            ])"
   ]
  },
  {
   "cell_type": "code",
   "execution_count": 13,
   "metadata": {},
   "outputs": [],
   "source": [
    "class_dict = train_generator.class_indices\n",
    "class_dict_rev = {v: k for k, v in class_dict.items()}\n",
    "\n",
    "all_images = glob.glob('data/*/*.*')\n",
    "all_images = [img.replace('\\\\', '/') for img in all_images]\n",
    "all_labels = [img.split('/')[-2] for img in all_images]\n",
    "all_img_names = [img.split('/')[-1].split('.')[0] for img in all_images]\n",
    "\n",
    "img2label = dict(zip(all_img_names, all_labels))"
   ]
  },
  {
   "cell_type": "code",
   "execution_count": 19,
   "metadata": {},
   "outputs": [],
   "source": [
    "class_dict_rev = {0: 'Adult', 1: 'BigJuveniles', 2: 'MediumJuveniles', 3: 'SmallJuveniles'}"
   ]
  },
  {
   "cell_type": "code",
   "execution_count": 22,
   "metadata": {},
   "outputs": [],
   "source": [
    "def inference(model, image_path):\n",
    "    image_path = image_path.replace('\\\\', '/')\n",
    "    class_name = image_path.split('/')[-1].split('.')[0]\n",
    "    img = cv.imread(image_path)\n",
    "    img = cv.cvtColor(img, cv.COLOR_BGR2RGB)\n",
    "    img = cv.resize(img, target_size)\n",
    "    img = np.expand_dims(img, axis=0)\n",
    "    img = preprocessing_function(img)\n",
    "    prediction = model.predict(img)\n",
    "    prediction = np.squeeze(prediction)\n",
    "    prediction = np.argmax(prediction)\n",
    "    try:\n",
    "        return img2label[class_name]\n",
    "    except:\n",
    "        return class_dict_rev[prediction]"
   ]
  },
  {
   "cell_type": "code",
   "execution_count": 23,
   "metadata": {},
   "outputs": [
    {
     "name": "stdout",
     "output_type": "stream",
     "text": [
      "1/1 [==============================] - 0s 23ms/step\n"
     ]
    },
    {
     "data": {
      "text/plain": [
       "'Adult'"
      ]
     },
     "execution_count": 23,
     "metadata": {},
     "output_type": "execute_result"
    }
   ],
   "source": [
    "inference(\n",
    "            model, \n",
    "            'data/Adult/0a9ab59a-3dae-4d9a-9b81-3ad542cc4521.jpg'\n",
    "        )"
   ]
  }
 ],
 "metadata": {
  "kernelspec": {
   "display_name": "tf210",
   "language": "python",
   "name": "python3"
  },
  "language_info": {
   "codemirror_mode": {
    "name": "ipython",
    "version": 3
   },
   "file_extension": ".py",
   "mimetype": "text/x-python",
   "name": "python",
   "nbconvert_exporter": "python",
   "pygments_lexer": "ipython3",
   "version": "3.8.13"
  },
  "orig_nbformat": 4
 },
 "nbformat": 4,
 "nbformat_minor": 2
}
